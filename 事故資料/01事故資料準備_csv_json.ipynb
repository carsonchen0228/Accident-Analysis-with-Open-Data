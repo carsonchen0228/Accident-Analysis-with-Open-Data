{
 "cells": [
  {
   "cell_type": "code",
   "execution_count": null,
   "metadata": {},
   "outputs": [],
   "source": [
    "import pandas as pd\n",
    "import os\n",
    "import json\n",
    "import numpy as np\n",
    "import matplotlib.pyplot as plt\n",
    "from tqdm import tqdm"
   ]
  },
  {
   "cell_type": "code",
   "execution_count": 5,
   "metadata": {},
   "outputs": [
    {
     "name": "stdout",
     "output_type": "stream",
     "text": [
      "Number of files in A2: 72\n"
     ]
    },
    {
     "name": "stderr",
     "output_type": "stream",
     "text": [
      "  0%|          | 0/72 [00:00<?, ?it/s]C:\\Users\\Allen\\AppData\\Local\\Temp\\ipykernel_1592\\2070417633.py:13: DtypeWarning: Columns (0,1,2,3,10,33,37,49,50) have mixed types. Specify dtype option on import or set low_memory=False.\n",
      "  data = pd.read_csv('A2/' + file, header=None)\n",
      "  1%|▏         | 1/72 [00:00<00:39,  1.81it/s]C:\\Users\\Allen\\AppData\\Local\\Temp\\ipykernel_1592\\2070417633.py:13: DtypeWarning: Columns (0,1,2,3,10,33,37,49,50) have mixed types. Specify dtype option on import or set low_memory=False.\n",
      "  data = pd.read_csv('A2/' + file, header=None)\n",
      "  3%|▎         | 2/72 [00:01<00:36,  1.92it/s]C:\\Users\\Allen\\AppData\\Local\\Temp\\ipykernel_1592\\2070417633.py:13: DtypeWarning: Columns (0,1,2,3,10,33,37,49,50) have mixed types. Specify dtype option on import or set low_memory=False.\n",
      "  data = pd.read_csv('A2/' + file, header=None)\n",
      "  4%|▍         | 3/72 [00:01<00:46,  1.47it/s]C:\\Users\\Allen\\AppData\\Local\\Temp\\ipykernel_1592\\2070417633.py:13: DtypeWarning: Columns (0,1,2,3,10,33,37,49,50) have mixed types. Specify dtype option on import or set low_memory=False.\n",
      "  data = pd.read_csv('A2/' + file, header=None)\n",
      "  6%|▌         | 4/72 [00:03<01:01,  1.11it/s]C:\\Users\\Allen\\AppData\\Local\\Temp\\ipykernel_1592\\2070417633.py:13: DtypeWarning: Columns (0,1,2,3,10,33,37,49,50) have mixed types. Specify dtype option on import or set low_memory=False.\n",
      "  data = pd.read_csv('A2/' + file, header=None)\n",
      "  7%|▋         | 5/72 [00:05<01:38,  1.47s/it]C:\\Users\\Allen\\AppData\\Local\\Temp\\ipykernel_1592\\2070417633.py:13: DtypeWarning: Columns (0,1,2,3,10,33,37,49,50) have mixed types. Specify dtype option on import or set low_memory=False.\n",
      "  data = pd.read_csv('A2/' + file, header=None)\n",
      "  8%|▊         | 6/72 [00:08<01:58,  1.80s/it]C:\\Users\\Allen\\AppData\\Local\\Temp\\ipykernel_1592\\2070417633.py:13: DtypeWarning: Columns (0,1,2,3,10,33,37,49,50) have mixed types. Specify dtype option on import or set low_memory=False.\n",
      "  data = pd.read_csv('A2/' + file, header=None)\n",
      " 10%|▉         | 7/72 [00:10<02:11,  2.02s/it]C:\\Users\\Allen\\AppData\\Local\\Temp\\ipykernel_1592\\2070417633.py:13: DtypeWarning: Columns (0,1,2,3,10,33,37,49,50) have mixed types. Specify dtype option on import or set low_memory=False.\n",
      "  data = pd.read_csv('A2/' + file, header=None)\n",
      " 11%|█         | 8/72 [00:13<02:19,  2.19s/it]C:\\Users\\Allen\\AppData\\Local\\Temp\\ipykernel_1592\\2070417633.py:13: DtypeWarning: Columns (0,1,2,3,10,33,37,49,50) have mixed types. Specify dtype option on import or set low_memory=False.\n",
      "  data = pd.read_csv('A2/' + file, header=None)\n",
      " 12%|█▎        | 9/72 [00:15<02:31,  2.41s/it]C:\\Users\\Allen\\AppData\\Local\\Temp\\ipykernel_1592\\2070417633.py:13: DtypeWarning: Columns (0,1,2,3,10,33,37,49,50) have mixed types. Specify dtype option on import or set low_memory=False.\n",
      "  data = pd.read_csv('A2/' + file, header=None)\n",
      " 14%|█▍        | 10/72 [00:18<02:30,  2.42s/it]C:\\Users\\Allen\\AppData\\Local\\Temp\\ipykernel_1592\\2070417633.py:13: DtypeWarning: Columns (0,1,2,3,10,33,37,49,50) have mixed types. Specify dtype option on import or set low_memory=False.\n",
      "  data = pd.read_csv('A2/' + file, header=None)\n",
      " 15%|█▌        | 11/72 [00:20<02:25,  2.38s/it]C:\\Users\\Allen\\AppData\\Local\\Temp\\ipykernel_1592\\2070417633.py:13: DtypeWarning: Columns (0,1,2,3,10,33,37,49,50) have mixed types. Specify dtype option on import or set low_memory=False.\n",
      "  data = pd.read_csv('A2/' + file, header=None)\n",
      " 17%|█▋        | 12/72 [00:23<02:25,  2.43s/it]C:\\Users\\Allen\\AppData\\Local\\Temp\\ipykernel_1592\\2070417633.py:13: DtypeWarning: Columns (0,1,2,3,10,33,37,49,50) have mixed types. Specify dtype option on import or set low_memory=False.\n",
      "  data = pd.read_csv('A2/' + file, header=None)\n",
      " 18%|█▊        | 13/72 [00:24<02:02,  2.08s/it]C:\\Users\\Allen\\AppData\\Local\\Temp\\ipykernel_1592\\2070417633.py:13: DtypeWarning: Columns (0,1,2,3,10,33,37,49,50) have mixed types. Specify dtype option on import or set low_memory=False.\n",
      "  data = pd.read_csv('A2/' + file, header=None)\n",
      " 19%|█▉        | 14/72 [00:27<02:15,  2.33s/it]C:\\Users\\Allen\\AppData\\Local\\Temp\\ipykernel_1592\\2070417633.py:13: DtypeWarning: Columns (0,1,2,3,10,33,37,49,50) have mixed types. Specify dtype option on import or set low_memory=False.\n",
      "  data = pd.read_csv('A2/' + file, header=None)\n",
      " 21%|██        | 15/72 [00:30<02:18,  2.43s/it]C:\\Users\\Allen\\AppData\\Local\\Temp\\ipykernel_1592\\2070417633.py:13: DtypeWarning: Columns (0,1,2,3,10,33,37,49,50) have mixed types. Specify dtype option on import or set low_memory=False.\n",
      "  data = pd.read_csv('A2/' + file, header=None)\n",
      " 22%|██▏       | 16/72 [00:33<02:39,  2.85s/it]C:\\Users\\Allen\\AppData\\Local\\Temp\\ipykernel_1592\\2070417633.py:13: DtypeWarning: Columns (0,1,2,3,10,33,37,49,50) have mixed types. Specify dtype option on import or set low_memory=False.\n",
      "  data = pd.read_csv('A2/' + file, header=None)\n",
      " 24%|██▎       | 17/72 [00:37<02:50,  3.10s/it]C:\\Users\\Allen\\AppData\\Local\\Temp\\ipykernel_1592\\2070417633.py:13: DtypeWarning: Columns (0,1,2,3,10,33,37,49,50) have mixed types. Specify dtype option on import or set low_memory=False.\n",
      "  data = pd.read_csv('A2/' + file, header=None)\n",
      " 25%|██▌       | 18/72 [00:40<02:43,  3.03s/it]C:\\Users\\Allen\\AppData\\Local\\Temp\\ipykernel_1592\\2070417633.py:13: DtypeWarning: Columns (0,1,2,3,10,33,37,49,50) have mixed types. Specify dtype option on import or set low_memory=False.\n",
      "  data = pd.read_csv('A2/' + file, header=None)\n",
      " 26%|██▋       | 19/72 [00:43<02:43,  3.08s/it]C:\\Users\\Allen\\AppData\\Local\\Temp\\ipykernel_1592\\2070417633.py:13: DtypeWarning: Columns (0,1,2,3,10,33,37,49,50) have mixed types. Specify dtype option on import or set low_memory=False.\n",
      "  data = pd.read_csv('A2/' + file, header=None)\n",
      " 28%|██▊       | 20/72 [00:47<02:47,  3.22s/it]C:\\Users\\Allen\\AppData\\Local\\Temp\\ipykernel_1592\\2070417633.py:13: DtypeWarning: Columns (0,1,2,3,10,33,37,49,50) have mixed types. Specify dtype option on import or set low_memory=False.\n",
      "  data = pd.read_csv('A2/' + file, header=None)\n",
      " 29%|██▉       | 21/72 [00:48<02:22,  2.79s/it]C:\\Users\\Allen\\AppData\\Local\\Temp\\ipykernel_1592\\2070417633.py:13: DtypeWarning: Columns (0,1,2,3,10,33,37,49,50) have mixed types. Specify dtype option on import or set low_memory=False.\n",
      "  data = pd.read_csv('A2/' + file, header=None)\n",
      " 31%|███       | 22/72 [00:52<02:26,  2.93s/it]C:\\Users\\Allen\\AppData\\Local\\Temp\\ipykernel_1592\\2070417633.py:13: DtypeWarning: Columns (0,1,2,3,10,33,37,49,50) have mixed types. Specify dtype option on import or set low_memory=False.\n",
      "  data = pd.read_csv('A2/' + file, header=None)\n",
      " 32%|███▏      | 23/72 [00:56<02:38,  3.23s/it]C:\\Users\\Allen\\AppData\\Local\\Temp\\ipykernel_1592\\2070417633.py:13: DtypeWarning: Columns (0,1,2,3,10,33,37,49,50) have mixed types. Specify dtype option on import or set low_memory=False.\n",
      "  data = pd.read_csv('A2/' + file, header=None)\n",
      " 33%|███▎      | 24/72 [01:00<02:56,  3.69s/it]C:\\Users\\Allen\\AppData\\Local\\Temp\\ipykernel_1592\\2070417633.py:13: DtypeWarning: Columns (0,1,2,3,10,33,37,49,50) have mixed types. Specify dtype option on import or set low_memory=False.\n",
      "  data = pd.read_csv('A2/' + file, header=None)\n",
      " 35%|███▍      | 25/72 [01:05<03:10,  4.04s/it]C:\\Users\\Allen\\AppData\\Local\\Temp\\ipykernel_1592\\2070417633.py:13: DtypeWarning: Columns (0,1,2,3,10,33,37,49,50) have mixed types. Specify dtype option on import or set low_memory=False.\n",
      "  data = pd.read_csv('A2/' + file, header=None)\n",
      " 36%|███▌      | 26/72 [01:08<02:46,  3.61s/it]C:\\Users\\Allen\\AppData\\Local\\Temp\\ipykernel_1592\\2070417633.py:13: DtypeWarning: Columns (0,1,2,3,10,33,37,49,50) have mixed types. Specify dtype option on import or set low_memory=False.\n",
      "  data = pd.read_csv('A2/' + file, header=None)\n",
      " 38%|███▊      | 27/72 [01:12<02:46,  3.70s/it]C:\\Users\\Allen\\AppData\\Local\\Temp\\ipykernel_1592\\2070417633.py:13: DtypeWarning: Columns (0,1,2,3,10,33,37,49,50) have mixed types. Specify dtype option on import or set low_memory=False.\n",
      "  data = pd.read_csv('A2/' + file, header=None)\n",
      " 39%|███▉      | 28/72 [01:19<03:33,  4.85s/it]C:\\Users\\Allen\\AppData\\Local\\Temp\\ipykernel_1592\\2070417633.py:13: DtypeWarning: Columns (0,1,2,3,10,33,37,49,50) have mixed types. Specify dtype option on import or set low_memory=False.\n",
      "  data = pd.read_csv('A2/' + file, header=None)\n",
      " 40%|████      | 29/72 [01:26<03:48,  5.31s/it]C:\\Users\\Allen\\AppData\\Local\\Temp\\ipykernel_1592\\2070417633.py:13: DtypeWarning: Columns (0,1,2,3,10,33,37,49,50) have mixed types. Specify dtype option on import or set low_memory=False.\n",
      "  data = pd.read_csv('A2/' + file, header=None)\n",
      " 42%|████▏     | 30/72 [01:32<04:00,  5.72s/it]C:\\Users\\Allen\\AppData\\Local\\Temp\\ipykernel_1592\\2070417633.py:13: DtypeWarning: Columns (0,1,2,3,10,33,37,49,50) have mixed types. Specify dtype option on import or set low_memory=False.\n",
      "  data = pd.read_csv('A2/' + file, header=None)\n",
      " 43%|████▎     | 31/72 [01:35<03:13,  4.71s/it]C:\\Users\\Allen\\AppData\\Local\\Temp\\ipykernel_1592\\2070417633.py:13: DtypeWarning: Columns (0,1,2,3,10,33,37,49,50) have mixed types. Specify dtype option on import or set low_memory=False.\n",
      "  data = pd.read_csv('A2/' + file, header=None)\n",
      " 44%|████▍     | 32/72 [01:37<02:40,  4.02s/it]C:\\Users\\Allen\\AppData\\Local\\Temp\\ipykernel_1592\\2070417633.py:13: DtypeWarning: Columns (0,1,2,3,10,33,37,49,50) have mixed types. Specify dtype option on import or set low_memory=False.\n",
      "  data = pd.read_csv('A2/' + file, header=None)\n",
      " 46%|████▌     | 33/72 [01:39<02:16,  3.51s/it]C:\\Users\\Allen\\AppData\\Local\\Temp\\ipykernel_1592\\2070417633.py:13: DtypeWarning: Columns (0,1,2,3,10,33,37,49,50) have mixed types. Specify dtype option on import or set low_memory=False.\n",
      "  data = pd.read_csv('A2/' + file, header=None)\n",
      " 47%|████▋     | 34/72 [01:42<02:01,  3.21s/it]C:\\Users\\Allen\\AppData\\Local\\Temp\\ipykernel_1592\\2070417633.py:13: DtypeWarning: Columns (0,1,2,3,10,33,37,49,50) have mixed types. Specify dtype option on import or set low_memory=False.\n",
      "  data = pd.read_csv('A2/' + file, header=None)\n",
      " 49%|████▊     | 35/72 [01:44<01:50,  2.99s/it]C:\\Users\\Allen\\AppData\\Local\\Temp\\ipykernel_1592\\2070417633.py:13: DtypeWarning: Columns (0,1,2,3,10,33,37,49,50) have mixed types. Specify dtype option on import or set low_memory=False.\n",
      "  data = pd.read_csv('A2/' + file, header=None)\n",
      " 50%|█████     | 36/72 [01:47<01:45,  2.94s/it]C:\\Users\\Allen\\AppData\\Local\\Temp\\ipykernel_1592\\2070417633.py:13: DtypeWarning: Columns (0,1,2,3,10,33,37,49,50) have mixed types. Specify dtype option on import or set low_memory=False.\n",
      "  data = pd.read_csv('A2/' + file, header=None)\n",
      " 51%|█████▏    | 37/72 [01:50<01:38,  2.80s/it]C:\\Users\\Allen\\AppData\\Local\\Temp\\ipykernel_1592\\2070417633.py:13: DtypeWarning: Columns (0,1,2,3,10,33,37,49,50) have mixed types. Specify dtype option on import or set low_memory=False.\n",
      "  data = pd.read_csv('A2/' + file, header=None)\n",
      " 53%|█████▎    | 38/72 [01:52<01:32,  2.71s/it]C:\\Users\\Allen\\AppData\\Local\\Temp\\ipykernel_1592\\2070417633.py:13: DtypeWarning: Columns (0,1,2,3,10,33,37,49,50) have mixed types. Specify dtype option on import or set low_memory=False.\n",
      "  data = pd.read_csv('A2/' + file, header=None)\n",
      " 54%|█████▍    | 39/72 [01:55<01:27,  2.66s/it]C:\\Users\\Allen\\AppData\\Local\\Temp\\ipykernel_1592\\2070417633.py:13: DtypeWarning: Columns (0,1,2,3,10,33,37,49,50) have mixed types. Specify dtype option on import or set low_memory=False.\n",
      "  data = pd.read_csv('A2/' + file, header=None)\n",
      " 56%|█████▌    | 40/72 [01:57<01:24,  2.64s/it]C:\\Users\\Allen\\AppData\\Local\\Temp\\ipykernel_1592\\2070417633.py:13: DtypeWarning: Columns (0,1,2,3,10,33,37,49,50) have mixed types. Specify dtype option on import or set low_memory=False.\n",
      "  data = pd.read_csv('A2/' + file, header=None)\n",
      " 57%|█████▋    | 41/72 [02:00<01:17,  2.51s/it]C:\\Users\\Allen\\AppData\\Local\\Temp\\ipykernel_1592\\2070417633.py:13: DtypeWarning: Columns (0,1,2,3,10,33,37,49,50) have mixed types. Specify dtype option on import or set low_memory=False.\n",
      "  data = pd.read_csv('A2/' + file, header=None)\n",
      " 58%|█████▊    | 42/72 [02:02<01:14,  2.47s/it]C:\\Users\\Allen\\AppData\\Local\\Temp\\ipykernel_1592\\2070417633.py:13: DtypeWarning: Columns (0,1,2,3,10,33,37,49,50) have mixed types. Specify dtype option on import or set low_memory=False.\n",
      "  data = pd.read_csv('A2/' + file, header=None)\n",
      " 60%|█████▉    | 43/72 [02:04<01:09,  2.40s/it]C:\\Users\\Allen\\AppData\\Local\\Temp\\ipykernel_1592\\2070417633.py:13: DtypeWarning: Columns (0,1,2,3,10,33,37,49,50) have mixed types. Specify dtype option on import or set low_memory=False.\n",
      "  data = pd.read_csv('A2/' + file, header=None)\n",
      " 61%|██████    | 44/72 [02:07<01:07,  2.41s/it]C:\\Users\\Allen\\AppData\\Local\\Temp\\ipykernel_1592\\2070417633.py:13: DtypeWarning: Columns (0,1,2,3,10,33,37,49,50) have mixed types. Specify dtype option on import or set low_memory=False.\n",
      "  data = pd.read_csv('A2/' + file, header=None)\n",
      " 62%|██████▎   | 45/72 [02:09<01:02,  2.33s/it]C:\\Users\\Allen\\AppData\\Local\\Temp\\ipykernel_1592\\2070417633.py:13: DtypeWarning: Columns (0,1,2,3,10,33,37,49,50) have mixed types. Specify dtype option on import or set low_memory=False.\n",
      "  data = pd.read_csv('A2/' + file, header=None)\n",
      " 64%|██████▍   | 46/72 [02:11<01:00,  2.34s/it]C:\\Users\\Allen\\AppData\\Local\\Temp\\ipykernel_1592\\2070417633.py:13: DtypeWarning: Columns (0,1,2,3,10,33,37,49,50) have mixed types. Specify dtype option on import or set low_memory=False.\n",
      "  data = pd.read_csv('A2/' + file, header=None)\n",
      " 65%|██████▌   | 47/72 [02:13<00:56,  2.25s/it]C:\\Users\\Allen\\AppData\\Local\\Temp\\ipykernel_1592\\2070417633.py:13: DtypeWarning: Columns (0,1,2,3,10,33,37,49,50) have mixed types. Specify dtype option on import or set low_memory=False.\n",
      "  data = pd.read_csv('A2/' + file, header=None)\n",
      " 67%|██████▋   | 48/72 [02:15<00:53,  2.23s/it]C:\\Users\\Allen\\AppData\\Local\\Temp\\ipykernel_1592\\2070417633.py:13: DtypeWarning: Columns (0,1,2,3,10,33,37,49,50) have mixed types. Specify dtype option on import or set low_memory=False.\n",
      "  data = pd.read_csv('A2/' + file, header=None)\n",
      " 68%|██████▊   | 49/72 [02:18<00:52,  2.28s/it]C:\\Users\\Allen\\AppData\\Local\\Temp\\ipykernel_1592\\2070417633.py:13: DtypeWarning: Columns (0,1,2,3,10,33,37,49,50) have mixed types. Specify dtype option on import or set low_memory=False.\n",
      "  data = pd.read_csv('A2/' + file, header=None)\n",
      " 69%|██████▉   | 50/72 [02:20<00:51,  2.33s/it]C:\\Users\\Allen\\AppData\\Local\\Temp\\ipykernel_1592\\2070417633.py:13: DtypeWarning: Columns (0,1,2,3,10,33,37,49,50) have mixed types. Specify dtype option on import or set low_memory=False.\n",
      "  data = pd.read_csv('A2/' + file, header=None)\n",
      " 71%|███████   | 51/72 [02:23<00:49,  2.34s/it]C:\\Users\\Allen\\AppData\\Local\\Temp\\ipykernel_1592\\2070417633.py:13: DtypeWarning: Columns (0,1,2,3,10,33,37,49,50) have mixed types. Specify dtype option on import or set low_memory=False.\n",
      "  data = pd.read_csv('A2/' + file, header=None)\n",
      " 72%|███████▏  | 52/72 [02:25<00:49,  2.46s/it]C:\\Users\\Allen\\AppData\\Local\\Temp\\ipykernel_1592\\2070417633.py:13: DtypeWarning: Columns (0,1,2,3,10,33,37,49,50) have mixed types. Specify dtype option on import or set low_memory=False.\n",
      "  data = pd.read_csv('A2/' + file, header=None)\n",
      " 74%|███████▎  | 53/72 [02:27<00:44,  2.34s/it]C:\\Users\\Allen\\AppData\\Local\\Temp\\ipykernel_1592\\2070417633.py:13: DtypeWarning: Columns (0,1,2,3,10,33,37,49,50) have mixed types. Specify dtype option on import or set low_memory=False.\n",
      "  data = pd.read_csv('A2/' + file, header=None)\n",
      " 75%|███████▌  | 54/72 [02:30<00:40,  2.27s/it]C:\\Users\\Allen\\AppData\\Local\\Temp\\ipykernel_1592\\2070417633.py:13: DtypeWarning: Columns (0,1,2,3,10,33,37,49,50) have mixed types. Specify dtype option on import or set low_memory=False.\n",
      "  data = pd.read_csv('A2/' + file, header=None)\n",
      " 76%|███████▋  | 55/72 [02:32<00:39,  2.32s/it]C:\\Users\\Allen\\AppData\\Local\\Temp\\ipykernel_1592\\2070417633.py:13: DtypeWarning: Columns (0,1,2,3,10,33,37,49,50) have mixed types. Specify dtype option on import or set low_memory=False.\n",
      "  data = pd.read_csv('A2/' + file, header=None)\n",
      " 78%|███████▊  | 56/72 [02:35<00:38,  2.39s/it]C:\\Users\\Allen\\AppData\\Local\\Temp\\ipykernel_1592\\2070417633.py:13: DtypeWarning: Columns (0,1,2,3,10,33,37,49,50) have mixed types. Specify dtype option on import or set low_memory=False.\n",
      "  data = pd.read_csv('A2/' + file, header=None)\n",
      " 79%|███████▉  | 57/72 [02:37<00:36,  2.45s/it]C:\\Users\\Allen\\AppData\\Local\\Temp\\ipykernel_1592\\2070417633.py:13: DtypeWarning: Columns (0,1,2,3,10,33,37,49,50) have mixed types. Specify dtype option on import or set low_memory=False.\n",
      "  data = pd.read_csv('A2/' + file, header=None)\n",
      " 81%|████████  | 58/72 [02:40<00:35,  2.52s/it]C:\\Users\\Allen\\AppData\\Local\\Temp\\ipykernel_1592\\2070417633.py:13: DtypeWarning: Columns (0,1,2,3,10,33,37,49,50) have mixed types. Specify dtype option on import or set low_memory=False.\n",
      "  data = pd.read_csv('A2/' + file, header=None)\n",
      " 82%|████████▏ | 59/72 [02:42<00:32,  2.49s/it]C:\\Users\\Allen\\AppData\\Local\\Temp\\ipykernel_1592\\2070417633.py:13: DtypeWarning: Columns (0,1,2,3,10,33,37,49,50) have mixed types. Specify dtype option on import or set low_memory=False.\n",
      "  data = pd.read_csv('A2/' + file, header=None)\n",
      " 83%|████████▎ | 60/72 [02:45<00:30,  2.52s/it]C:\\Users\\Allen\\AppData\\Local\\Temp\\ipykernel_1592\\2070417633.py:13: DtypeWarning: Columns (0,1,2,3,10,33,37,49,50) have mixed types. Specify dtype option on import or set low_memory=False.\n",
      "  data = pd.read_csv('A2/' + file, header=None)\n",
      " 85%|████████▍ | 61/72 [02:47<00:27,  2.54s/it]C:\\Users\\Allen\\AppData\\Local\\Temp\\ipykernel_1592\\2070417633.py:13: DtypeWarning: Columns (0,1,2,3,10,33,37,49,50) have mixed types. Specify dtype option on import or set low_memory=False.\n",
      "  data = pd.read_csv('A2/' + file, header=None)\n",
      " 86%|████████▌ | 62/72 [02:50<00:26,  2.61s/it]C:\\Users\\Allen\\AppData\\Local\\Temp\\ipykernel_1592\\2070417633.py:13: DtypeWarning: Columns (0,1,2,3,10,33,37,49,50) have mixed types. Specify dtype option on import or set low_memory=False.\n",
      "  data = pd.read_csv('A2/' + file, header=None)\n",
      " 88%|████████▊ | 63/72 [02:53<00:23,  2.62s/it]C:\\Users\\Allen\\AppData\\Local\\Temp\\ipykernel_1592\\2070417633.py:13: DtypeWarning: Columns (0,1,2,3,10,33,37,49,50) have mixed types. Specify dtype option on import or set low_memory=False.\n",
      "  data = pd.read_csv('A2/' + file, header=None)\n",
      " 89%|████████▉ | 64/72 [02:56<00:22,  2.84s/it]C:\\Users\\Allen\\AppData\\Local\\Temp\\ipykernel_1592\\2070417633.py:13: DtypeWarning: Columns (0,1,2,3,10,33,37,49,50) have mixed types. Specify dtype option on import or set low_memory=False.\n",
      "  data = pd.read_csv('A2/' + file, header=None)\n",
      " 90%|█████████ | 65/72 [02:59<00:20,  2.92s/it]C:\\Users\\Allen\\AppData\\Local\\Temp\\ipykernel_1592\\2070417633.py:13: DtypeWarning: Columns (0,1,2,3,10,33,37,49,50) have mixed types. Specify dtype option on import or set low_memory=False.\n",
      "  data = pd.read_csv('A2/' + file, header=None)\n",
      " 92%|█████████▏| 66/72 [03:02<00:17,  2.96s/it]C:\\Users\\Allen\\AppData\\Local\\Temp\\ipykernel_1592\\2070417633.py:13: DtypeWarning: Columns (0,1,2,3,10,33,37,49,50) have mixed types. Specify dtype option on import or set low_memory=False.\n",
      "  data = pd.read_csv('A2/' + file, header=None)\n",
      " 93%|█████████▎| 67/72 [03:05<00:14,  2.83s/it]C:\\Users\\Allen\\AppData\\Local\\Temp\\ipykernel_1592\\2070417633.py:13: DtypeWarning: Columns (0,1,2,3,10,33,37,49,50) have mixed types. Specify dtype option on import or set low_memory=False.\n",
      "  data = pd.read_csv('A2/' + file, header=None)\n",
      " 94%|█████████▍| 68/72 [03:08<00:11,  2.92s/it]C:\\Users\\Allen\\AppData\\Local\\Temp\\ipykernel_1592\\2070417633.py:13: DtypeWarning: Columns (0,1,2,3,10,33,37,49,50) have mixed types. Specify dtype option on import or set low_memory=False.\n",
      "  data = pd.read_csv('A2/' + file, header=None)\n",
      " 96%|█████████▌| 69/72 [03:11<00:08,  2.93s/it]C:\\Users\\Allen\\AppData\\Local\\Temp\\ipykernel_1592\\2070417633.py:13: DtypeWarning: Columns (0,1,2,3,10,33,37,49,50) have mixed types. Specify dtype option on import or set low_memory=False.\n",
      "  data = pd.read_csv('A2/' + file, header=None)\n",
      " 97%|█████████▋| 70/72 [03:14<00:05,  2.91s/it]C:\\Users\\Allen\\AppData\\Local\\Temp\\ipykernel_1592\\2070417633.py:13: DtypeWarning: Columns (0,1,2,3,10,33,37,49,50) have mixed types. Specify dtype option on import or set low_memory=False.\n",
      "  data = pd.read_csv('A2/' + file, header=None)\n",
      " 99%|█████████▊| 71/72 [03:17<00:02,  2.92s/it]C:\\Users\\Allen\\AppData\\Local\\Temp\\ipykernel_1592\\2070417633.py:13: DtypeWarning: Columns (0,1,2,3,10,33,37,49,50) have mixed types. Specify dtype option on import or set low_memory=False.\n",
      "  data = pd.read_csv('A2/' + file, header=None)\n",
      "100%|██████████| 72/72 [03:20<00:00,  2.78s/it]\n"
     ]
    }
   ],
   "source": [
    "#read all files in the folder A2\n",
    "#save the data in a dataframe\n",
    "file_list=os.listdir('A2')\n",
    "df=pd.DataFrame()\n",
    "print('Number of files in A2:', len(file_list))\n",
    "\n",
    "# for file in file_list:\n",
    "#     data=pd.read_csv('A2/'+file,header=None)\n",
    "#     df=pd.concat([df,data],axis=0)\n",
    "\n",
    "#use tqdm to show progress\n",
    "for file in tqdm(file_list):\n",
    "    data = pd.read_csv('A2/' + file, header=None)\n",
    "    df = pd.concat([df, data], axis=0)"
   ]
  },
  {
   "cell_type": "code",
   "execution_count": null,
   "metadata": {},
   "outputs": [],
   "source": [
    "df.to_csv('A2_all.csv',index=False,header=False)\n",
    "#217.2 sec to process"
   ]
  },
  {
   "cell_type": "code",
   "execution_count": 7,
   "metadata": {},
   "outputs": [
    {
     "data": {
      "text/plain": [
       "5008641"
      ]
     },
     "execution_count": 7,
     "metadata": {},
     "output_type": "execute_result"
    }
   ],
   "source": [
    "len(df)"
   ]
  },
  {
   "cell_type": "code",
   "execution_count": 8,
   "metadata": {},
   "outputs": [
    {
     "name": "stderr",
     "output_type": "stream",
     "text": [
      "100%|██████████| 6/6 [00:00<00:00,  7.52it/s]\n"
     ]
    }
   ],
   "source": [
    "#do the same for the files in folder A1\n",
    "file_list=os.listdir('A1')\n",
    "df1=pd.DataFrame()\n",
    "# for file in file_list:\n",
    "#     data=pd.read_csv('A1/'+file,header=None)\n",
    "#     df1=pd.concat([df1,data],axis=0)\n",
    "\n",
    "for file in tqdm(file_list):\n",
    "    data = pd.read_csv('A1/' + file, header=None)\n",
    "    df1 = pd.concat([df1, data], axis=0)"
   ]
  },
  {
   "cell_type": "code",
   "execution_count": 9,
   "metadata": {},
   "outputs": [],
   "source": [
    "df1.to_csv('A1_all.csv',index=False,header=False)"
   ]
  },
  {
   "cell_type": "code",
   "execution_count": 10,
   "metadata": {},
   "outputs": [
    {
     "data": {
      "text/plain": [
       "27182"
      ]
     },
     "execution_count": 10,
     "metadata": {},
     "output_type": "execute_result"
    }
   ],
   "source": [
    "len(df1)"
   ]
  },
  {
   "cell_type": "code",
   "execution_count": 11,
   "metadata": {},
   "outputs": [
    {
     "name": "stderr",
     "output_type": "stream",
     "text": [
      "100%|██████████| 27182/27182 [00:25<00:00, 1072.71it/s]\n"
     ]
    }
   ],
   "source": [
    "d_A1={}\n",
    "# for i in range(len(df1)):\n",
    "for i in tqdm(range(len(df1))):\n",
    "    key=str(df1.iloc[i,2])+'_'+str(df1.iloc[i,3])+'_'+str(df1.iloc[i,6])\n",
    "    value=[df1.iloc[i,0],df1.iloc[i,3],df1.iloc[i,7],df1.iloc[i,8],df1.iloc[i,28],df1.iloc[i,29],df1.iloc[i,30],df1.iloc[i,31],df1.iloc[i,32],df1.iloc[i,34],df1.iloc[i,36],df1.iloc[i,37],df1.iloc[i,40],df1.iloc[i,41],df1.iloc[i,42],df1.iloc[i,43],df1.iloc[i,46],df1.iloc[i,47]]\n",
    "    if key not in d_A1 and key!='發生日期_發生時間_發生地點' and key!= '發生年度_發生時間_發生地點':\n",
    "        d_A1[key]=value"
   ]
  },
  {
   "cell_type": "code",
   "execution_count": 12,
   "metadata": {},
   "outputs": [
    {
     "name": "stderr",
     "output_type": "stream",
     "text": [
      "100%|██████████| 5008641/5008641 [1:15:28<00:00, 1106.14it/s] \n"
     ]
    }
   ],
   "source": [
    "d_A2={}\n",
    "#key is the 3,4,7 column, value is the 3,4,8,9,29,30,31,32,33,35,37,38,41,42,43,44,47,48 column\n",
    "# for i in range(len(df)):\n",
    "for i in tqdm(range(len(df))):\n",
    "    key=str(df.iloc[i,3])+'_'+str(df.iloc[i,4])+'_'+str(df.iloc[i,7])\n",
    "    value=[df.iloc[i,1],df.iloc[i,4],df.iloc[i,8],df.iloc[i,9],df.iloc[i,29],df.iloc[i,30],df.iloc[i,31],df.iloc[i,32],df.iloc[i,33],df.iloc[i,35],df.iloc[i,37],df.iloc[i,38],df.iloc[i,41],df.iloc[i,42],df.iloc[i,43],df.iloc[i,44],df.iloc[i,47],df.iloc[i,48]]\n",
    "    if key not in d_A2 and key!='發生日期_發生時間_發生地點' and key!= '發生年度_發生時間_發生地點':\n",
    "        d_A2[key]=value"
   ]
  },
  {
   "cell_type": "code",
   "execution_count": 13,
   "metadata": {},
   "outputs": [
    {
     "data": {
      "text/plain": [
       "(10663, 190385)"
      ]
     },
     "execution_count": 13,
     "metadata": {},
     "output_type": "execute_result"
    }
   ],
   "source": [
    "len(d_A1),len(d_A2)"
   ]
  },
  {
   "cell_type": "code",
   "execution_count": 14,
   "metadata": {},
   "outputs": [],
   "source": [
    "#save d_A1 and d_A2 in a json file respectively\n",
    "with open('d_A1.json', 'w') as fp:\n",
    "    json.dump(d_A1, fp)\n",
    "with open('d_A2.json', 'w') as fp:\n",
    "    json.dump(d_A2, fp)"
   ]
  },
  {
   "cell_type": "code",
   "execution_count": 15,
   "metadata": {},
   "outputs": [
    {
     "name": "stdout",
     "output_type": "stream",
     "text": [
      "10663 190385\n"
     ]
    }
   ],
   "source": [
    "#read the json file and check if the data is saved correctly\n",
    "with open('d_A1.json', 'r') as fp:\n",
    "    d_A1_read=json.load(fp)\n",
    "with open('d_A2.json', 'r') as fp:\n",
    "    d_A2_read=json.load(fp)\n",
    "print(len(d_A1_read),len(d_A2_read))\n"
   ]
  },
  {
   "cell_type": "code",
   "execution_count": null,
   "metadata": {},
   "outputs": [],
   "source": []
  }
 ],
 "metadata": {
  "kernelspec": {
   "display_name": "base",
   "language": "python",
   "name": "python3"
  },
  "language_info": {
   "codemirror_mode": {
    "name": "ipython",
    "version": 3
   },
   "file_extension": ".py",
   "mimetype": "text/x-python",
   "name": "python",
   "nbconvert_exporter": "python",
   "pygments_lexer": "ipython3",
   "version": "3.11.7"
  }
 },
 "nbformat": 4,
 "nbformat_minor": 2
}
