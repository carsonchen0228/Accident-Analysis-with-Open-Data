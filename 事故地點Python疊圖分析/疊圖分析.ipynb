{
 "cells": [
  {
   "cell_type": "code",
   "execution_count": 1,
   "id": "f17a0f5c",
   "metadata": {},
   "outputs": [],
   "source": [
    "import geopandas as gpd\n",
    "import pandas as pd\n",
    "from shapely.geometry import Point\n",
    "import time"
   ]
  },
  {
   "cell_type": "code",
   "execution_count": 3,
   "id": "48c48a9d",
   "metadata": {},
   "outputs": [
    {
     "name": "stdout",
     "output_type": "stream",
     "text": [
      "村里界座標系統: EPSG:3826\n",
      "coords.csv 座標系統: EPSG:3826 TWD97 / TM2 zone 121\n",
      "coords_gdf 幾何類型: ['Point']\n",
      "coords_gdf 座標系統: EPSG:3826\n",
      "空間連接耗時: 0.6529 秒\n",
      "連接結果數量: 61174\n"
     ]
    }
   ],
   "source": [
    "# 讀取村里界.gpkg (多邊形) - 使用 EPSG:3826 TWD97 / TM2 zone 121\n",
    "village_gdf = gpd.read_file(\"村里界.gpkg\")\n",
    "print(f\"村里界座標系統: {village_gdf.crs}\")\n",
    "\n",
    "# coords.csv 疊圖  - x,y 使用 EPSG:3826 TWD97 / TM2 zone 121\n",
    "coords_df = pd.read_csv(\"coords.csv\")\n",
    "print(f\"coords.csv 座標系統: EPSG:3826 TWD97 / TM2 zone 121\")\n",
    "# 將 coords_df 轉換為 GeoDataFrame\n",
    "coords_gdf = gpd.GeoDataFrame(\n",
    "    coords_df, \n",
    "    geometry=gpd.points_from_xy(coords_df['x'], coords_df['y']),\n",
    "    crs=\"EPSG:3826\"\n",
    ")\n",
    "\n",
    "# 檢查 coords_gdf 的幾何類型\n",
    "print(f\"coords_gdf 幾何類型: {coords_gdf.geom_type.unique()}\")\n",
    "\n",
    "# 檢查 coords_gdf 的座標系統\n",
    "print(f\"coords_gdf 座標系統: {coords_gdf.crs}\")\n",
    "\n",
    "# 進行空間連接\n",
    "start_time = time.time()\n",
    "joined_gdf = gpd.sjoin(coords_gdf, village_gdf, how=\"inner\", predicate=\"intersects\")\n",
    "end_time = time.time()\n",
    "print(f\"空間連接耗時: {end_time - start_time:.4f} 秒\")\n",
    "# 檢查連接結果\n",
    "print(f\"連接結果數量: {len(joined_gdf)}\")\n",
    "# save as CSV\n",
    "joined_gdf.to_csv(\"coords_村里.csv\", index=False)"
   ]
  },
  {
   "cell_type": "code",
   "execution_count": 23,
   "id": "b7d25ac5",
   "metadata": {},
   "outputs": [
    {
     "name": "stdout",
     "output_type": "stream",
     "text": [
      "村里界座標系統: EPSG:3826\n",
      "讀取 A1_all.feather 耗時: 0.07 秒\n",
      "有效事故資料筆數: 29142\n",
      "疊圖用時: 0.56 秒\n"
     ]
    }
   ],
   "source": [
    "# 讀取村里界.gpkg (多邊形) - 使用 EPSG:3826 TWD97 / TM2 zone 121\n",
    "village_gdf = gpd.read_file(\"村里界.gpkg\")\n",
    "print(f\"村里界座標系統: {village_gdf.crs}\")\n",
    "\n",
    "# 讀取 A1_all.feather，並將經度、緯度轉為點\n",
    "start_time = time.time()\n",
    "a1_df = pd.read_feather(\"A1_all.feather\")\n",
    "# assign first row as header, then drop it\n",
    "a1_df.columns = a1_df.iloc[0]\n",
    "a1_df = a1_df[1:]\n",
    "read_time = time.time()\n",
    "print(f\"讀取 A1_all.feather 耗時: {time.time() - start_time:.2f} 秒\")\n",
    "\n",
    "# 確保經度和緯度是數值型態，並過濾無效值\n",
    "a1_df['經度'] = pd.to_numeric(a1_df['經度'], errors='coerce')\n",
    "a1_df['緯度'] = pd.to_numeric(a1_df['緯度'], errors='coerce')\n",
    "\n",
    "# 移除經度或緯度為空值的資料\n",
    "a1_df = a1_df.dropna(subset=['經度', '緯度'])\n",
    "\n",
    "print(f\"有效事故資料筆數: {len(a1_df)}\")\n",
    "\n",
    "# 建立事故點 GeoDataFrame，使用 WGS84 座標系統 (經緯度)\n",
    "a1_gdf = gpd.GeoDataFrame(\n",
    "    a1_df,\n",
    "    geometry=[Point(xy) for xy in zip(a1_df['經度'], a1_df['緯度'])],\n",
    "    crs='EPSG:4326'  # WGS84 地理座標系統\n",
    ")\n",
    "\n",
    "# 將事故點座標系統轉換為與村里界相同的 TWD97 / TM2 zone 121\n",
    "a1_gdf = a1_gdf.to_crs(village_gdf.crs)\n",
    "\n",
    "# 疊圖：將事故點與村里界進行空間聯集\n",
    "joined_gdf = gpd.sjoin(a1_gdf, village_gdf, how=\"left\", predicate=\"within\")\n",
    "\n",
    "time_taken = time.time() - read_time\n",
    "print(f\"疊圖用時: {time_taken:.2f} 秒\")\n",
    "\n",
    "# joined_gdf 現在包含各事故對應的縣市、鄉鎮市區、村里等欄位\n",
    "# joined_gdf.head()"
   ]
  },
  {
   "cell_type": "code",
   "execution_count": null,
   "id": "1425f1b6",
   "metadata": {},
   "outputs": [
    {
     "name": "stdout",
     "output_type": "stream",
     "text": [
      "讀取 A1_all.feather 耗時: 20.05 秒\n",
      "有效事故資料筆數: 5384845\n",
      "疊圖用時: 126.01 秒\n"
     ]
    }
   ],
   "source": [
    "# 讀取 A2_all.feather，並將經度、緯度轉為點\n",
    "start_time = time.time()\n",
    "a2_df = pd.read_feather(\"A2_all.feather\")\n",
    "# assign first row as header, then drop it\n",
    "a2_df.columns = a2_df.iloc[0]\n",
    "a2_df = a2_df[1:]\n",
    "read_time = time.time()\n",
    "print(f\"讀取 A2_all.feather 耗時: {time.time() - start_time:.2f} 秒\")\n",
    "\n",
    "# 確保經度和緯度是數值型態，並過濾無效值\n",
    "a2_df['經度'] = pd.to_numeric(a2_df['經度'], errors='coerce')  \n",
    "a2_df['緯度'] = pd.to_numeric(a2_df['緯度'], errors='coerce')\n",
    "\n",
    "# 移除經度或緯度為空值的資料\n",
    "a2_df = a2_df.dropna(subset=['經度', '緯度'])\n",
    "\n",
    "print(f\"有效事故資料筆數: {len(a2_df)}\")\n",
    "\n",
    "# 建立事故點 GeoDataFrame，使用 WGS84 座標系統 (經緯度)\n",
    "a2_gdf = gpd.GeoDataFrame(\n",
    "    a2_df,\n",
    "    geometry=[Point(xy) for xy in zip(a2_df['經度'], a2_df['緯度'])],\n",
    "    crs='EPSG:4326'  # WGS84 地理座標系統\n",
    ")\n",
    "\n",
    "# 將事故點座標系統轉換為與村里界相同的 TWD97 / TM2 zone 121\n",
    "a2_gdf = a2_gdf.to_crs(village_gdf.crs)\n",
    "\n",
    "# 疊圖：將事故點與村里界進行空間聯集\n",
    "joined_gdf2 = gpd.sjoin(a2_gdf, village_gdf, how=\"left\", predicate=\"within\")\n",
    "\n",
    "time_taken = time.time() - read_time\n",
    "print(f\"疊圖用時: {time_taken:.2f} 秒\")\n",
    "\n",
    "# joined_gdf2 現在包含各事故對應的縣市、鄉鎮市區、村里等欄位\n",
    "# joined_gdf2.head()"
   ]
  },
  {
   "cell_type": "code",
   "execution_count": 25,
   "id": "30fb7ea8",
   "metadata": {},
   "outputs": [
    {
     "name": "stdout",
     "output_type": "stream",
     "text": [
      "儲存 A1_joined.feather 耗時: 0.32 秒\n",
      "儲存 A2_joined.feather 耗時: 51.02 秒\n"
     ]
    }
   ],
   "source": [
    "# save joined data to feather files\n",
    "start_time = time.time()\n",
    "joined_gdf.to_feather(\"A1_joined.feather\")\n",
    "A1_end_time = time.time()\n",
    "print(f\"儲存 A1_joined.feather 耗時: {A1_end_time - start_time:.2f} 秒\")\n",
    "A2_start_time = time.time()\n",
    "joined_gdf2.to_feather(\"A2_joined.feather\")\n",
    "A2_end_time = time.time()\n",
    "print(f\"儲存 A2_joined.feather 耗時: {A2_end_time - A2_start_time:.2f} 秒\")"
   ]
  },
  {
   "cell_type": "code",
   "execution_count": 2,
   "id": "a16a42e9",
   "metadata": {},
   "outputs": [
    {
     "name": "stdout",
     "output_type": "stream",
     "text": [
      "讀取 A1_joined.feather 耗時: 0.46 秒\n",
      "讀取 A2_joined.feather 耗時: 56.14 秒\n"
     ]
    }
   ],
   "source": [
    "#read A1_joined.feather and A2_joined.feather\n",
    "start_time = time.time()\n",
    "a1_joined_df = pd.read_feather(\"A1_joined.feather\")\n",
    "A1_joined_end_time = time.time()\n",
    "print(f\"讀取 A1_joined.feather 耗時: {A1_joined_end_time - start_time:.2f} 秒\")\n",
    "A2_joined_start_time = time.time()\n",
    "a2_joined_df = pd.read_feather(\"A2_joined.feather\")\n",
    "A2_joined_end_time = time.time()\n",
    "print(f\"讀取 A2_joined.feather 耗時: {A2_joined_end_time - A2_joined_start_time:.2f} 秒\")"
   ]
  },
  {
   "cell_type": "code",
   "execution_count": 3,
   "id": "fad40555",
   "metadata": {},
   "outputs": [],
   "source": [
    "# filter TOWNAME and save as gpkg\n",
    "def filter_and_save(df, town_name, filename):\n",
    "    # 先篩選指定城鎮的資料\n",
    "    filtered_df = df[df['TOWNNAME'] == town_name]\n",
    "    if not filtered_df.empty:\n",
    "        # 由於 feather 格式不保存幾何資訊，需要從經緯度重新建立幾何\n",
    "        # 檢查是否有經緯度欄位\n",
    "        if '經度' in filtered_df.columns and '緯度' in filtered_df.columns:\n",
    "            # 從經緯度重新建立 Point 幾何\n",
    "            filtered_gdf = gpd.GeoDataFrame(\n",
    "                filtered_df,\n",
    "                geometry=[Point(xy) for xy in zip(filtered_df['經度'], filtered_df['緯度'])],\n",
    "                crs='EPSG:4326'  # 原始座標系統 (WGS84)\n",
    "            )\n",
    "            # 轉換為 TWD97\n",
    "            filtered_gdf = filtered_gdf.to_crs('EPSG:3826')\n",
    "        else:\n",
    "            print(f\"警告：{town_name} 的資料缺少經緯度欄位\")\n",
    "            return\n",
    "        \n",
    "        filtered_gdf.to_file(filename, driver='GPKG')\n",
    "        print(f\"已儲存 {town_name} 的資料到 {filename}，共 {len(filtered_gdf)} 筆\")\n",
    "    else:\n",
    "        print(f\"{town_name} 沒有資料\")"
   ]
  },
  {
   "cell_type": "code",
   "execution_count": null,
   "id": "e10fb0fb",
   "metadata": {},
   "outputs": [
    {
     "name": "stdout",
     "output_type": "stream",
     "text": [
      "已儲存 南投市 的資料到 A1_南投市.gpkg，共 105 筆\n",
      "已儲存 南投市 的資料到 A2_南投市.gpkg，共 26292 筆\n",
      "已儲存 潮州鎮 的資料到 A1_潮州鎮.gpkg，共 76 筆\n",
      "已儲存 南投市 的資料到 A2_南投市.gpkg，共 26292 筆\n",
      "已儲存 潮州鎮 的資料到 A1_潮州鎮.gpkg，共 76 筆\n",
      "已儲存 潮州鎮 的資料到 A2_潮州鎮.gpkg，共 16819 筆\n",
      "已儲存 潮州鎮 的資料到 A2_潮州鎮.gpkg，共 16819 筆\n"
     ]
    }
   ],
   "source": [
    "# filter TOWNAME and save as gpkg\n",
    "def filter_and_save(df, town_name, filename):\n",
    "    # 先篩選指定城鎮的資料\n",
    "    filtered_df = df[df['TOWNNAME'] == town_name]\n",
    "    if not filtered_df.empty:\n",
    "        # 由於 feather 格式不保存幾何資訊，需要從經緯度重新建立幾何\n",
    "        # 檢查是否有經緯度欄位\n",
    "        if '經度' in filtered_df.columns and '緯度' in filtered_df.columns:\n",
    "            # 從經緯度重新建立 Point 幾何\n",
    "            filtered_gdf = gpd.GeoDataFrame(\n",
    "                filtered_df,\n",
    "                geometry=[Point(xy) for xy in zip(filtered_df['經度'], filtered_df['緯度'])],\n",
    "                crs='EPSG:4326'  # 原始座標系統 (WGS84)\n",
    "            )\n",
    "            # 轉換為 TWD97\n",
    "            filtered_gdf = filtered_gdf.to_crs('EPSG:3826')\n",
    "        else:\n",
    "            print(f\"警告：{town_name} 的資料缺少經緯度欄位\")\n",
    "            return\n",
    "        \n",
    "        filtered_gdf.to_file(filename, driver='GPKG')\n",
    "        print(f\"已儲存 {town_name} 的資料到 {filename}，共 {len(filtered_gdf)} 筆\")\n",
    "    else:\n",
    "        print(f\"{town_name} 沒有資料\")\n",
    "\n",
    "# filter and save for each town\n",
    "towns = ['南投市', '潮州鎮']\n",
    "for town in towns:\n",
    "    filter_and_save(a1_joined_df, town, f\"A1_{town}.gpkg\")\n",
    "    filter_and_save(a2_joined_df, town, f\"A2_{town}.gpkg\")\n",
    "\n",
    "# filter and save for each town\n",
    "towns = ['南投市', '潮州鎮']\n",
    "for town in towns:\n",
    "    filter_and_save(a1_joined_df, town, f\"A1_{town}.gpkg\")\n",
    "    filter_and_save(a2_joined_df, town, f\"A2_{town}.gpkg\")"
   ]
  },
  {
   "cell_type": "code",
   "execution_count": null,
   "id": "45cfd7c3",
   "metadata": {},
   "outputs": [
    {
     "name": "stdout",
     "output_type": "stream",
     "text": [
      "已儲存 草屯鎮 的資料到 A1_草屯鎮.gpkg，共 175 筆\n",
      "已儲存 草屯鎮 的資料到 A2_草屯鎮.gpkg，共 30065 筆\n"
     ]
    }
   ],
   "source": [
    "# filter TOWNAME and save as gpkg\n",
    "def filter_and_save(df, town_name, filename):\n",
    "    # 先篩選指定城鎮的資料\n",
    "    filtered_df = df[df['TOWNNAME'] == town_name]\n",
    "    if not filtered_df.empty:\n",
    "        # 由於 feather 格式不保存幾何資訊，需要從經緯度重新建立幾何\n",
    "        # 檢查是否有經緯度欄位\n",
    "        if '經度' in filtered_df.columns and '緯度' in filtered_df.columns:\n",
    "            # 從經緯度重新建立 Point 幾何\n",
    "            filtered_gdf = gpd.GeoDataFrame(\n",
    "                filtered_df,\n",
    "                geometry=[Point(xy) for xy in zip(filtered_df['經度'], filtered_df['緯度'])],\n",
    "                crs='EPSG:4326'  # 原始座標系統 (WGS84)\n",
    "            )\n",
    "            # 轉換為 TWD97\n",
    "            filtered_gdf = filtered_gdf.to_crs('EPSG:3826')\n",
    "        else:\n",
    "            print(f\"警告：{town_name} 的資料缺少經緯度欄位\")\n",
    "            return\n",
    "        \n",
    "        filtered_gdf.to_file(filename, driver='GPKG')\n",
    "        print(f\"已儲存 {town_name} 的資料到 {filename}，共 {len(filtered_gdf)} 筆\")\n",
    "    else:\n",
    "        print(f\"{town_name} 沒有資料\")\n",
    "\n",
    "# filter and save for each town\n",
    "towns = ['草屯鎮']\n",
    "for town in towns:\n",
    "    filter_and_save(a1_joined_df, town, f\"A1_{town}.gpkg\")\n",
    "    filter_and_save(a2_joined_df, town, f\"A2_{town}.gpkg\")"
   ]
  },
  {
   "cell_type": "code",
   "execution_count": 5,
   "id": "6d18231c",
   "metadata": {},
   "outputs": [
    {
     "name": "stdout",
     "output_type": "stream",
     "text": [
      "已儲存 大安區 的資料到 A1_大安區.gpkg，共 150 筆\n",
      "已儲存 大安區 的資料到 A2_大安區.gpkg，共 39280 筆\n"
     ]
    }
   ],
   "source": [
    "# filter and save for each town\n",
    "towns = ['大安區']\n",
    "for town in towns:\n",
    "    filter_and_save(a1_joined_df, town, f\"A1_{town}.gpkg\")\n",
    "    filter_and_save(a2_joined_df, town, f\"A2_{town}.gpkg\")"
   ]
  },
  {
   "cell_type": "code",
   "execution_count": 4,
   "id": "8fa47e88",
   "metadata": {},
   "outputs": [
    {
     "name": "stdout",
     "output_type": "stream",
     "text": [
      "已儲存 桃園區 的資料到 A1_桃園區.gpkg，共 227 筆\n",
      "已儲存 桃園區 的資料到 A2_桃園區.gpkg，共 126971 筆\n",
      "已儲存 中壢區 的資料到 A1_中壢區.gpkg，共 384 筆\n",
      "已儲存 中壢區 的資料到 A2_中壢區.gpkg，共 154815 筆\n",
      "已儲存 楊梅區 的資料到 A1_楊梅區.gpkg，共 234 筆\n",
      "已儲存 楊梅區 的資料到 A2_楊梅區.gpkg，共 39252 筆\n",
      "已儲存 蘆竹區 的資料到 A1_蘆竹區.gpkg，共 287 筆\n",
      "已儲存 蘆竹區 的資料到 A2_蘆竹區.gpkg，共 50005 筆\n",
      "已儲存 平鎮區 的資料到 A1_平鎮區.gpkg，共 247 筆\n",
      "已儲存 平鎮區 的資料到 A2_平鎮區.gpkg，共 61991 筆\n",
      "已儲存 龍潭區 的資料到 A1_龍潭區.gpkg，共 171 筆\n",
      "已儲存 龍潭區 的資料到 A2_龍潭區.gpkg，共 29940 筆\n"
     ]
    }
   ],
   "source": [
    "# filter and save for each town\n",
    "towns = ['桃園區','中壢區','楊梅區','蘆竹區','平鎮區','龍潭區']\n",
    "for town in towns:\n",
    "    filter_and_save(a1_joined_df, town, f\"A1_{town}.gpkg\")\n",
    "    filter_and_save(a2_joined_df, town, f\"A2_{town}.gpkg\")"
   ]
  },
  {
   "cell_type": "code",
   "execution_count": 5,
   "id": "bbc46920",
   "metadata": {},
   "outputs": [
    {
     "name": "stdout",
     "output_type": "stream",
     "text": [
      "已儲存 大溪區 的資料到 A1_大溪區.gpkg，共 192 筆\n",
      "已儲存 大溪區 的資料到 A2_大溪區.gpkg，共 25849 筆\n",
      "已儲存 八德區 的資料到 A1_八德區.gpkg，共 201 筆\n",
      "已儲存 八德區 的資料到 A2_八德區.gpkg，共 64274 筆\n",
      "已儲存 龜山區 的資料到 A1_龜山區.gpkg，共 284 筆\n",
      "已儲存 龜山區 的資料到 A2_龜山區.gpkg，共 63996 筆\n",
      "已儲存 大園區 的資料到 A1_大園區.gpkg，共 208 筆\n",
      "已儲存 大園區 的資料到 A2_大園區.gpkg，共 26628 筆\n",
      "已儲存 林口區 的資料到 A1_林口區.gpkg，共 93 筆\n",
      "已儲存 林口區 的資料到 A2_林口區.gpkg，共 16451 筆\n"
     ]
    }
   ],
   "source": [
    "# filter and save for each town\n",
    "towns = ['大溪區','八德區','龜山區','大園區','林口區']\n",
    "for town in towns:\n",
    "    filter_and_save(a1_joined_df, town, f\"A1_{town}.gpkg\")\n",
    "    filter_and_save(a2_joined_df, town, f\"A2_{town}.gpkg\")"
   ]
  },
  {
   "cell_type": "code",
   "execution_count": 4,
   "id": "f48c997b",
   "metadata": {},
   "outputs": [
    {
     "name": "stdout",
     "output_type": "stream",
     "text": [
      "已儲存 蘆洲區 的資料到 A1_蘆洲區.gpkg，共 76 筆\n",
      "已儲存 蘆洲區 的資料到 A2_蘆洲區.gpkg，共 29902 筆\n"
     ]
    }
   ],
   "source": [
    "# filter and save for each town\n",
    "towns = ['蘆洲區']\n",
    "for town in towns:\n",
    "    filter_and_save(a1_joined_df, town, f\"A1_{town}.gpkg\")\n",
    "    filter_and_save(a2_joined_df, town, f\"A2_{town}.gpkg\")"
   ]
  },
  {
   "cell_type": "code",
   "execution_count": 8,
   "id": "cd9e27ef",
   "metadata": {},
   "outputs": [],
   "source": [
    "# filter TOWNAME and save as gpkg. read a list of towns, and merge all dataframes\n",
    "# 這個函數會遍歷指定的城鎮列表，篩選每個城鎮的資料，並將結果合併儲存為 GeoPackage 格式\n",
    "def filter_lst_and_save(df, town_name_list, filename):\n",
    "    # 初始化一個空的 GeoDataFrame 用於儲存所有篩選結果\n",
    "    all_filtered_gdf = gpd.GeoDataFrame(columns=df.columns)\n",
    "    \n",
    "    for town_name in town_name_list:\n",
    "        # 先篩選指定城鎮的資料\n",
    "        filtered_df = df[df['TOWNNAME'] == town_name]\n",
    "        if not filtered_df.empty:\n",
    "            # 由於 feather 格式不保存幾何資訊，需要從經緯度重新建立幾何\n",
    "            if '經度' in filtered_df.columns and '緯度' in filtered_df.columns:\n",
    "                # 從經緯度重新建立 Point 幾何\n",
    "                filtered_gdf = gpd.GeoDataFrame(\n",
    "                    filtered_df,\n",
    "                    geometry=[Point(xy) for xy in zip(filtered_df['經度'], filtered_df['緯度'])],\n",
    "                    crs='EPSG:4326'  # 原始座標系統 (WGS84)\n",
    "                )\n",
    "                # 轉換為 TWD97\n",
    "                filtered_gdf = filtered_gdf.to_crs('EPSG:3826')\n",
    "                \n",
    "                # 將篩選結果添加到總 GeoDataFrame 中\n",
    "                all_filtered_gdf = pd.concat([all_filtered_gdf, filtered_gdf], ignore_index=True)\n",
    "            else:\n",
    "                print(f\"警告：{town_name} 的資料缺少經緯度欄位\")\n",
    "        else:\n",
    "            print(f\"{town_name} 沒有資料\")\n",
    "    \n",
    "    # 儲存所有篩選結果到指定的 GeoPackage 文件\n",
    "    all_filtered_gdf.to_file(filename, driver='GPKG')\n",
    "    print(f\"已儲存所有城鎮的資料到 {filename}，共 {len(all_filtered_gdf)} 筆\")\n"
   ]
  },
  {
   "cell_type": "code",
   "execution_count": 9,
   "id": "e8343f5c",
   "metadata": {},
   "outputs": [
    {
     "name": "stderr",
     "output_type": "stream",
     "text": [
      "C:\\Users\\Allen\\AppData\\Local\\Temp\\ipykernel_14008\\3241889270.py:23: FutureWarning: The behavior of DataFrame concatenation with empty or all-NA entries is deprecated. In a future version, this will no longer exclude empty or all-NA columns when determining the result dtypes. To retain the old behavior, exclude the relevant entries before the concat operation.\n",
      "  all_filtered_gdf = pd.concat([all_filtered_gdf, filtered_gdf], ignore_index=True)\n",
      "c:\\Users\\Allen\\anaconda3\\Lib\\site-packages\\pyogrio\\raw.py:723: RuntimeWarning: The filename extension should be 'gpkg' instead of '' to conform to the GPKG specification.\n",
      "  ogr_write(\n"
     ]
    },
    {
     "name": "stdout",
     "output_type": "stream",
     "text": [
      "已儲存所有城鎮的資料到 A1，共 1829 筆\n"
     ]
    },
    {
     "name": "stderr",
     "output_type": "stream",
     "text": [
      "C:\\Users\\Allen\\AppData\\Local\\Temp\\ipykernel_14008\\3241889270.py:23: FutureWarning: The behavior of DataFrame concatenation with empty or all-NA entries is deprecated. In a future version, this will no longer exclude empty or all-NA columns when determining the result dtypes. To retain the old behavior, exclude the relevant entries before the concat operation.\n",
      "  all_filtered_gdf = pd.concat([all_filtered_gdf, filtered_gdf], ignore_index=True)\n"
     ]
    },
    {
     "name": "stdout",
     "output_type": "stream",
     "text": [
      "已儲存所有城鎮的資料到 A2，共 510255 筆\n"
     ]
    },
    {
     "name": "stderr",
     "output_type": "stream",
     "text": [
      "c:\\Users\\Allen\\anaconda3\\Lib\\site-packages\\pyogrio\\raw.py:723: RuntimeWarning: The filename extension should be 'gpkg' instead of '' to conform to the GPKG specification.\n",
      "  ogr_write(\n"
     ]
    }
   ],
   "source": [
    "# filter and save for each town\n",
    "towns = ['桃園區','中壢區','蘆竹區','平鎮區','大溪區','龜山區','大園區']\n",
    "filter_lst_and_save(a1_joined_df, towns, \"A1\")\n",
    "filter_lst_and_save(a2_joined_df, towns, \"A2\")"
   ]
  }
 ],
 "metadata": {
  "kernelspec": {
   "display_name": "base",
   "language": "python",
   "name": "python3"
  },
  "language_info": {
   "codemirror_mode": {
    "name": "ipython",
    "version": 3
   },
   "file_extension": ".py",
   "mimetype": "text/x-python",
   "name": "python",
   "nbconvert_exporter": "python",
   "pygments_lexer": "ipython3",
   "version": "3.11.7"
  }
 },
 "nbformat": 4,
 "nbformat_minor": 5
}
