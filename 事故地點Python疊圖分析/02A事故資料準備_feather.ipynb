{
 "cells": [
  {
   "cell_type": "code",
   "execution_count": 1,
   "metadata": {},
   "outputs": [],
   "source": [
    "import pandas as pd\n",
    "import os\n",
    "import json\n",
    "import numpy as np\n",
    "import matplotlib.pyplot as plt\n",
    "from tqdm import tqdm"
   ]
  },
  {
   "cell_type": "code",
   "execution_count": 2,
   "metadata": {},
   "outputs": [
    {
     "name": "stdout",
     "output_type": "stream",
     "text": [
      "Number of files in A2: 78\n"
     ]
    },
    {
     "name": "stderr",
     "output_type": "stream",
     "text": [
      "  0%|          | 0/78 [00:00<?, ?it/s]"
     ]
    },
    {
     "name": "stderr",
     "output_type": "stream",
     "text": [
      "C:\\Users\\Allen\\AppData\\Local\\Temp\\ipykernel_4360\\2070417633.py:13: DtypeWarning: Columns (0,1,2,3,10,33,37,49,50) have mixed types. Specify dtype option on import or set low_memory=False.\n",
      "  data = pd.read_csv('A2/' + file, header=None)\n",
      "  1%|▏         | 1/78 [00:00<00:44,  1.74it/s]C:\\Users\\Allen\\AppData\\Local\\Temp\\ipykernel_4360\\2070417633.py:13: DtypeWarning: Columns (0,1,2,3,10,33,37,49,50) have mixed types. Specify dtype option on import or set low_memory=False.\n",
      "  data = pd.read_csv('A2/' + file, header=None)\n",
      "  3%|▎         | 2/78 [00:04<02:59,  2.36s/it]C:\\Users\\Allen\\AppData\\Local\\Temp\\ipykernel_4360\\2070417633.py:13: DtypeWarning: Columns (0,1,2,3,10,33,37,49,50) have mixed types. Specify dtype option on import or set low_memory=False.\n",
      "  data = pd.read_csv('A2/' + file, header=None)\n",
      "  4%|▍         | 3/78 [00:06<02:42,  2.17s/it]C:\\Users\\Allen\\AppData\\Local\\Temp\\ipykernel_4360\\2070417633.py:13: DtypeWarning: Columns (0,1,2,3,10,33,37,49,50) have mixed types. Specify dtype option on import or set low_memory=False.\n",
      "  data = pd.read_csv('A2/' + file, header=None)\n",
      "  5%|▌         | 4/78 [00:07<02:26,  1.98s/it]C:\\Users\\Allen\\AppData\\Local\\Temp\\ipykernel_4360\\2070417633.py:13: DtypeWarning: Columns (0,1,2,3,10,33,37,49,50) have mixed types. Specify dtype option on import or set low_memory=False.\n",
      "  data = pd.read_csv('A2/' + file, header=None)\n",
      "  6%|▋         | 5/78 [00:10<02:37,  2.16s/it]C:\\Users\\Allen\\AppData\\Local\\Temp\\ipykernel_4360\\2070417633.py:13: DtypeWarning: Columns (0,1,2,3,10,33,37,49,50) have mixed types. Specify dtype option on import or set low_memory=False.\n",
      "  data = pd.read_csv('A2/' + file, header=None)\n",
      "  8%|▊         | 6/78 [00:13<03:09,  2.64s/it]C:\\Users\\Allen\\AppData\\Local\\Temp\\ipykernel_4360\\2070417633.py:13: DtypeWarning: Columns (0,1,2,3,10,33,37,49,50) have mixed types. Specify dtype option on import or set low_memory=False.\n",
      "  data = pd.read_csv('A2/' + file, header=None)\n",
      "  9%|▉         | 7/78 [00:16<03:11,  2.69s/it]C:\\Users\\Allen\\AppData\\Local\\Temp\\ipykernel_4360\\2070417633.py:13: DtypeWarning: Columns (0,1,2,3,10,33,37,49,50) have mixed types. Specify dtype option on import or set low_memory=False.\n",
      "  data = pd.read_csv('A2/' + file, header=None)\n",
      " 10%|█         | 8/78 [00:19<03:18,  2.84s/it]C:\\Users\\Allen\\AppData\\Local\\Temp\\ipykernel_4360\\2070417633.py:13: DtypeWarning: Columns (0,1,2,3,10,33,37,49,50) have mixed types. Specify dtype option on import or set low_memory=False.\n",
      "  data = pd.read_csv('A2/' + file, header=None)\n",
      " 12%|█▏        | 9/78 [00:23<03:29,  3.03s/it]C:\\Users\\Allen\\AppData\\Local\\Temp\\ipykernel_4360\\2070417633.py:13: DtypeWarning: Columns (0,1,2,3,10,33,37,49,50) have mixed types. Specify dtype option on import or set low_memory=False.\n",
      "  data = pd.read_csv('A2/' + file, header=None)\n",
      " 13%|█▎        | 10/78 [00:26<03:31,  3.11s/it]C:\\Users\\Allen\\AppData\\Local\\Temp\\ipykernel_4360\\2070417633.py:13: DtypeWarning: Columns (0,1,2,3,10,33,37,49,50) have mixed types. Specify dtype option on import or set low_memory=False.\n",
      "  data = pd.read_csv('A2/' + file, header=None)\n",
      " 14%|█▍        | 11/78 [00:30<03:41,  3.30s/it]C:\\Users\\Allen\\AppData\\Local\\Temp\\ipykernel_4360\\2070417633.py:13: DtypeWarning: Columns (0,1,2,3,10,33,37,49,50) have mixed types. Specify dtype option on import or set low_memory=False.\n",
      "  data = pd.read_csv('A2/' + file, header=None)\n",
      " 15%|█▌        | 12/78 [00:33<03:30,  3.18s/it]C:\\Users\\Allen\\AppData\\Local\\Temp\\ipykernel_4360\\2070417633.py:13: DtypeWarning: Columns (0,1,2,3,10,33,37,49,50) have mixed types. Specify dtype option on import or set low_memory=False.\n",
      "  data = pd.read_csv('A2/' + file, header=None)\n",
      " 17%|█▋        | 13/78 [00:37<03:52,  3.57s/it]C:\\Users\\Allen\\AppData\\Local\\Temp\\ipykernel_4360\\2070417633.py:13: DtypeWarning: Columns (0,1,2,3,10,33,37,49,50) have mixed types. Specify dtype option on import or set low_memory=False.\n",
      "  data = pd.read_csv('A2/' + file, header=None)\n",
      " 18%|█▊        | 14/78 [00:41<03:49,  3.59s/it]C:\\Users\\Allen\\AppData\\Local\\Temp\\ipykernel_4360\\2070417633.py:13: DtypeWarning: Columns (0,1,2,3,10,33,37,49,50) have mixed types. Specify dtype option on import or set low_memory=False.\n",
      "  data = pd.read_csv('A2/' + file, header=None)\n",
      " 19%|█▉        | 15/78 [00:45<03:48,  3.63s/it]C:\\Users\\Allen\\AppData\\Local\\Temp\\ipykernel_4360\\2070417633.py:13: DtypeWarning: Columns (0,1,2,3,10,33,37,49,50) have mixed types. Specify dtype option on import or set low_memory=False.\n",
      "  data = pd.read_csv('A2/' + file, header=None)\n",
      " 21%|██        | 16/78 [00:49<04:06,  3.98s/it]C:\\Users\\Allen\\AppData\\Local\\Temp\\ipykernel_4360\\2070417633.py:13: DtypeWarning: Columns (0,1,2,3,10,33,37,49,50) have mixed types. Specify dtype option on import or set low_memory=False.\n",
      "  data = pd.read_csv('A2/' + file, header=None)\n",
      " 22%|██▏       | 17/78 [00:53<03:49,  3.77s/it]C:\\Users\\Allen\\AppData\\Local\\Temp\\ipykernel_4360\\2070417633.py:13: DtypeWarning: Columns (0,1,2,3,10,33,37,49,50) have mixed types. Specify dtype option on import or set low_memory=False.\n",
      "  data = pd.read_csv('A2/' + file, header=None)\n",
      " 23%|██▎       | 18/78 [00:58<04:14,  4.24s/it]C:\\Users\\Allen\\AppData\\Local\\Temp\\ipykernel_4360\\2070417633.py:13: DtypeWarning: Columns (0,1,2,3,10,33,37,49,50) have mixed types. Specify dtype option on import or set low_memory=False.\n",
      "  data = pd.read_csv('A2/' + file, header=None)\n",
      " 24%|██▍       | 19/78 [01:03<04:30,  4.59s/it]C:\\Users\\Allen\\AppData\\Local\\Temp\\ipykernel_4360\\2070417633.py:13: DtypeWarning: Columns (0,1,2,3,10,33,37,49,50) have mixed types. Specify dtype option on import or set low_memory=False.\n",
      "  data = pd.read_csv('A2/' + file, header=None)\n",
      " 26%|██▌       | 20/78 [01:08<04:32,  4.70s/it]C:\\Users\\Allen\\AppData\\Local\\Temp\\ipykernel_4360\\2070417633.py:13: DtypeWarning: Columns (0,1,2,3,10,33,37,49,50) have mixed types. Specify dtype option on import or set low_memory=False.\n",
      "  data = pd.read_csv('A2/' + file, header=None)\n",
      " 27%|██▋       | 21/78 [01:10<03:41,  3.88s/it]C:\\Users\\Allen\\AppData\\Local\\Temp\\ipykernel_4360\\2070417633.py:13: DtypeWarning: Columns (0,1,2,3,10,33,37,49,50) have mixed types. Specify dtype option on import or set low_memory=False.\n",
      "  data = pd.read_csv('A2/' + file, header=None)\n",
      " 28%|██▊       | 22/78 [01:13<03:16,  3.51s/it]C:\\Users\\Allen\\AppData\\Local\\Temp\\ipykernel_4360\\2070417633.py:13: DtypeWarning: Columns (0,1,2,3,10,33,37,49,50) have mixed types. Specify dtype option on import or set low_memory=False.\n",
      "  data = pd.read_csv('A2/' + file, header=None)\n",
      " 29%|██▉       | 23/78 [01:15<02:56,  3.20s/it]C:\\Users\\Allen\\AppData\\Local\\Temp\\ipykernel_4360\\2070417633.py:13: DtypeWarning: Columns (0,1,2,3,10,33,37,49,50) have mixed types. Specify dtype option on import or set low_memory=False.\n",
      "  data = pd.read_csv('A2/' + file, header=None)\n",
      " 31%|███       | 24/78 [01:17<02:34,  2.86s/it]C:\\Users\\Allen\\AppData\\Local\\Temp\\ipykernel_4360\\2070417633.py:13: DtypeWarning: Columns (0,1,2,3,10,33,37,49,50) have mixed types. Specify dtype option on import or set low_memory=False.\n",
      "  data = pd.read_csv('A2/' + file, header=None)\n",
      " 32%|███▏      | 25/78 [01:21<02:43,  3.08s/it]C:\\Users\\Allen\\AppData\\Local\\Temp\\ipykernel_4360\\2070417633.py:13: DtypeWarning: Columns (0,1,2,3,10,33,37,49,50) have mixed types. Specify dtype option on import or set low_memory=False.\n",
      "  data = pd.read_csv('A2/' + file, header=None)\n",
      " 33%|███▎      | 26/78 [01:24<02:44,  3.17s/it]C:\\Users\\Allen\\AppData\\Local\\Temp\\ipykernel_4360\\2070417633.py:13: DtypeWarning: Columns (0,1,2,3,10,33,37,49,50) have mixed types. Specify dtype option on import or set low_memory=False.\n",
      "  data = pd.read_csv('A2/' + file, header=None)\n",
      " 35%|███▍      | 27/78 [01:31<03:28,  4.09s/it]C:\\Users\\Allen\\AppData\\Local\\Temp\\ipykernel_4360\\2070417633.py:13: DtypeWarning: Columns (0,1,2,3,10,33,37,49,50) have mixed types. Specify dtype option on import or set low_memory=False.\n",
      "  data = pd.read_csv('A2/' + file, header=None)\n",
      " 36%|███▌      | 28/78 [01:37<04:01,  4.82s/it]C:\\Users\\Allen\\AppData\\Local\\Temp\\ipykernel_4360\\2070417633.py:13: DtypeWarning: Columns (0,1,2,3,10,33,37,49,50) have mixed types. Specify dtype option on import or set low_memory=False.\n",
      "  data = pd.read_csv('A2/' + file, header=None)\n",
      " 37%|███▋      | 29/78 [01:44<04:22,  5.37s/it]C:\\Users\\Allen\\AppData\\Local\\Temp\\ipykernel_4360\\2070417633.py:13: DtypeWarning: Columns (0,1,2,3,10,33,37,49,50) have mixed types. Specify dtype option on import or set low_memory=False.\n",
      "  data = pd.read_csv('A2/' + file, header=None)\n",
      " 38%|███▊      | 30/78 [01:51<04:42,  5.89s/it]C:\\Users\\Allen\\AppData\\Local\\Temp\\ipykernel_4360\\2070417633.py:13: DtypeWarning: Columns (0,1,2,3,10,33,37,49,50) have mixed types. Specify dtype option on import or set low_memory=False.\n",
      "  data = pd.read_csv('A2/' + file, header=None)\n",
      " 40%|███▉      | 31/78 [01:57<04:44,  6.06s/it]C:\\Users\\Allen\\AppData\\Local\\Temp\\ipykernel_4360\\2070417633.py:13: DtypeWarning: Columns (0,1,2,3,10,33,37,49,50) have mixed types. Specify dtype option on import or set low_memory=False.\n",
      "  data = pd.read_csv('A2/' + file, header=None)\n",
      " 41%|████      | 32/78 [02:02<04:22,  5.71s/it]C:\\Users\\Allen\\AppData\\Local\\Temp\\ipykernel_4360\\2070417633.py:13: DtypeWarning: Columns (0,1,2,3,10,33,37,49,50) have mixed types. Specify dtype option on import or set low_memory=False.\n",
      "  data = pd.read_csv('A2/' + file, header=None)\n",
      " 42%|████▏     | 33/78 [02:08<04:11,  5.59s/it]C:\\Users\\Allen\\AppData\\Local\\Temp\\ipykernel_4360\\2070417633.py:13: DtypeWarning: Columns (0,1,2,3,10,33,37,49,50) have mixed types. Specify dtype option on import or set low_memory=False.\n",
      "  data = pd.read_csv('A2/' + file, header=None)\n",
      " 44%|████▎     | 34/78 [02:12<03:49,  5.22s/it]C:\\Users\\Allen\\AppData\\Local\\Temp\\ipykernel_4360\\2070417633.py:13: DtypeWarning: Columns (0,1,2,3,10,33,37,49,50) have mixed types. Specify dtype option on import or set low_memory=False.\n",
      "  data = pd.read_csv('A2/' + file, header=None)\n",
      " 45%|████▍     | 35/78 [02:15<03:17,  4.59s/it]C:\\Users\\Allen\\AppData\\Local\\Temp\\ipykernel_4360\\2070417633.py:13: DtypeWarning: Columns (0,1,2,3,10,33,37,49,50) have mixed types. Specify dtype option on import or set low_memory=False.\n",
      "  data = pd.read_csv('A2/' + file, header=None)\n",
      " 46%|████▌     | 36/78 [02:21<03:33,  5.09s/it]C:\\Users\\Allen\\AppData\\Local\\Temp\\ipykernel_4360\\2070417633.py:13: DtypeWarning: Columns (0,1,2,3,10,33,37,49,50) have mixed types. Specify dtype option on import or set low_memory=False.\n",
      "  data = pd.read_csv('A2/' + file, header=None)\n",
      " 47%|████▋     | 37/78 [02:28<03:48,  5.57s/it]C:\\Users\\Allen\\AppData\\Local\\Temp\\ipykernel_4360\\2070417633.py:13: DtypeWarning: Columns (0,1,2,3,10,33,37,49,50) have mixed types. Specify dtype option on import or set low_memory=False.\n",
      "  data = pd.read_csv('A2/' + file, header=None)\n",
      " 49%|████▊     | 38/78 [02:34<03:48,  5.72s/it]C:\\Users\\Allen\\AppData\\Local\\Temp\\ipykernel_4360\\2070417633.py:13: DtypeWarning: Columns (0,1,2,3,10,33,37,49,50) have mixed types. Specify dtype option on import or set low_memory=False.\n",
      "  data = pd.read_csv('A2/' + file, header=None)\n",
      " 50%|█████     | 39/78 [02:39<03:36,  5.55s/it]C:\\Users\\Allen\\AppData\\Local\\Temp\\ipykernel_4360\\2070417633.py:13: DtypeWarning: Columns (0,1,2,3,10,33,37,49,50) have mixed types. Specify dtype option on import or set low_memory=False.\n",
      "  data = pd.read_csv('A2/' + file, header=None)\n",
      " 51%|█████▏    | 40/78 [02:43<03:09,  4.98s/it]C:\\Users\\Allen\\AppData\\Local\\Temp\\ipykernel_4360\\2070417633.py:13: DtypeWarning: Columns (0,1,2,3,10,33,37,49,50) have mixed types. Specify dtype option on import or set low_memory=False.\n",
      "  data = pd.read_csv('A2/' + file, header=None)\n",
      " 53%|█████▎    | 41/78 [02:46<02:39,  4.31s/it]C:\\Users\\Allen\\AppData\\Local\\Temp\\ipykernel_4360\\2070417633.py:13: DtypeWarning: Columns (0,1,2,3,10,33,37,49,50) have mixed types. Specify dtype option on import or set low_memory=False.\n",
      "  data = pd.read_csv('A2/' + file, header=None)\n",
      " 54%|█████▍    | 42/78 [02:51<02:43,  4.53s/it]C:\\Users\\Allen\\AppData\\Local\\Temp\\ipykernel_4360\\2070417633.py:13: DtypeWarning: Columns (0,1,2,3,10,33,37,49,50) have mixed types. Specify dtype option on import or set low_memory=False.\n",
      "  data = pd.read_csv('A2/' + file, header=None)\n",
      " 55%|█████▌    | 43/78 [02:55<02:41,  4.60s/it]C:\\Users\\Allen\\AppData\\Local\\Temp\\ipykernel_4360\\2070417633.py:13: DtypeWarning: Columns (0,1,2,3,10,33,37,49,50) have mixed types. Specify dtype option on import or set low_memory=False.\n",
      "  data = pd.read_csv('A2/' + file, header=None)\n",
      " 56%|█████▋    | 44/78 [03:02<02:51,  5.06s/it]C:\\Users\\Allen\\AppData\\Local\\Temp\\ipykernel_4360\\2070417633.py:13: DtypeWarning: Columns (0,1,2,3,10,33,37,49,50) have mixed types. Specify dtype option on import or set low_memory=False.\n",
      "  data = pd.read_csv('A2/' + file, header=None)\n",
      " 58%|█████▊    | 45/78 [03:07<02:51,  5.21s/it]C:\\Users\\Allen\\AppData\\Local\\Temp\\ipykernel_4360\\2070417633.py:13: DtypeWarning: Columns (0,1,2,3,10,33,37,49,50) have mixed types. Specify dtype option on import or set low_memory=False.\n",
      "  data = pd.read_csv('A2/' + file, header=None)\n",
      " 59%|█████▉    | 46/78 [03:11<02:34,  4.83s/it]C:\\Users\\Allen\\AppData\\Local\\Temp\\ipykernel_4360\\2070417633.py:13: DtypeWarning: Columns (0,1,2,3,10,33,37,49,50) have mixed types. Specify dtype option on import or set low_memory=False.\n",
      "  data = pd.read_csv('A2/' + file, header=None)\n",
      " 60%|██████    | 47/78 [03:14<02:07,  4.13s/it]C:\\Users\\Allen\\AppData\\Local\\Temp\\ipykernel_4360\\2070417633.py:13: DtypeWarning: Columns (0,1,2,3,10,33,37,49,50) have mixed types. Specify dtype option on import or set low_memory=False.\n",
      "  data = pd.read_csv('A2/' + file, header=None)\n",
      " 62%|██████▏   | 48/78 [03:16<01:47,  3.60s/it]C:\\Users\\Allen\\AppData\\Local\\Temp\\ipykernel_4360\\2070417633.py:13: DtypeWarning: Columns (0,1,2,3,10,33,37,49,50) have mixed types. Specify dtype option on import or set low_memory=False.\n",
      "  data = pd.read_csv('A2/' + file, header=None)\n",
      " 63%|██████▎   | 49/78 [03:19<01:39,  3.44s/it]C:\\Users\\Allen\\AppData\\Local\\Temp\\ipykernel_4360\\2070417633.py:13: DtypeWarning: Columns (0,1,2,3,10,33,37,49,50) have mixed types. Specify dtype option on import or set low_memory=False.\n",
      "  data = pd.read_csv('A2/' + file, header=None)\n",
      " 64%|██████▍   | 50/78 [03:22<01:28,  3.16s/it]C:\\Users\\Allen\\AppData\\Local\\Temp\\ipykernel_4360\\2070417633.py:13: DtypeWarning: Columns (0,1,2,3,10,33,37,49,50) have mixed types. Specify dtype option on import or set low_memory=False.\n",
      "  data = pd.read_csv('A2/' + file, header=None)\n",
      " 65%|██████▌   | 51/78 [03:24<01:22,  3.06s/it]C:\\Users\\Allen\\AppData\\Local\\Temp\\ipykernel_4360\\2070417633.py:13: DtypeWarning: Columns (0,1,2,3,10,33,37,49,50) have mixed types. Specify dtype option on import or set low_memory=False.\n",
      "  data = pd.read_csv('A2/' + file, header=None)\n",
      " 67%|██████▋   | 52/78 [03:27<01:14,  2.85s/it]C:\\Users\\Allen\\AppData\\Local\\Temp\\ipykernel_4360\\2070417633.py:13: DtypeWarning: Columns (0,1,2,3,10,33,37,49,50) have mixed types. Specify dtype option on import or set low_memory=False.\n",
      "  data = pd.read_csv('A2/' + file, header=None)\n",
      " 68%|██████▊   | 53/78 [03:30<01:10,  2.84s/it]C:\\Users\\Allen\\AppData\\Local\\Temp\\ipykernel_4360\\2070417633.py:13: DtypeWarning: Columns (0,1,2,3,10,33,37,49,50) have mixed types. Specify dtype option on import or set low_memory=False.\n",
      "  data = pd.read_csv('A2/' + file, header=None)\n",
      " 69%|██████▉   | 54/78 [03:32<01:04,  2.71s/it]C:\\Users\\Allen\\AppData\\Local\\Temp\\ipykernel_4360\\2070417633.py:13: DtypeWarning: Columns (0,1,2,3,10,33,37,49,50) have mixed types. Specify dtype option on import or set low_memory=False.\n",
      "  data = pd.read_csv('A2/' + file, header=None)\n",
      " 71%|███████   | 55/78 [03:35<01:03,  2.75s/it]C:\\Users\\Allen\\AppData\\Local\\Temp\\ipykernel_4360\\2070417633.py:13: DtypeWarning: Columns (0,1,2,3,10,33,37,49,50) have mixed types. Specify dtype option on import or set low_memory=False.\n",
      "  data = pd.read_csv('A2/' + file, header=None)\n",
      " 72%|███████▏  | 56/78 [03:37<00:58,  2.68s/it]C:\\Users\\Allen\\AppData\\Local\\Temp\\ipykernel_4360\\2070417633.py:13: DtypeWarning: Columns (0,1,2,3,10,33,37,49,50) have mixed types. Specify dtype option on import or set low_memory=False.\n",
      "  data = pd.read_csv('A2/' + file, header=None)\n",
      " 73%|███████▎  | 57/78 [03:40<00:58,  2.76s/it]C:\\Users\\Allen\\AppData\\Local\\Temp\\ipykernel_4360\\2070417633.py:13: DtypeWarning: Columns (0,1,2,3,10,33,37,49,50) have mixed types. Specify dtype option on import or set low_memory=False.\n",
      "  data = pd.read_csv('A2/' + file, header=None)\n",
      " 74%|███████▍  | 58/78 [03:43<00:53,  2.68s/it]C:\\Users\\Allen\\AppData\\Local\\Temp\\ipykernel_4360\\2070417633.py:13: DtypeWarning: Columns (0,1,2,3,10,33,37,49,50) have mixed types. Specify dtype option on import or set low_memory=False.\n",
      "  data = pd.read_csv('A2/' + file, header=None)\n",
      " 76%|███████▌  | 59/78 [03:47<00:58,  3.07s/it]C:\\Users\\Allen\\AppData\\Local\\Temp\\ipykernel_4360\\2070417633.py:13: DtypeWarning: Columns (0,1,2,3,10,33,37,49,50) have mixed types. Specify dtype option on import or set low_memory=False.\n",
      "  data = pd.read_csv('A2/' + file, header=None)\n",
      " 77%|███████▋  | 60/78 [03:49<00:52,  2.90s/it]C:\\Users\\Allen\\AppData\\Local\\Temp\\ipykernel_4360\\2070417633.py:13: DtypeWarning: Columns (0,1,2,3,10,33,37,49,50) have mixed types. Specify dtype option on import or set low_memory=False.\n",
      "  data = pd.read_csv('A2/' + file, header=None)\n",
      " 78%|███████▊  | 61/78 [03:52<00:50,  2.97s/it]C:\\Users\\Allen\\AppData\\Local\\Temp\\ipykernel_4360\\2070417633.py:13: DtypeWarning: Columns (0,1,2,3,10,33,37,49,50) have mixed types. Specify dtype option on import or set low_memory=False.\n",
      "  data = pd.read_csv('A2/' + file, header=None)\n",
      " 79%|███████▉  | 62/78 [03:55<00:46,  2.90s/it]C:\\Users\\Allen\\AppData\\Local\\Temp\\ipykernel_4360\\2070417633.py:13: DtypeWarning: Columns (0,1,2,3,10,33,37,49,50) have mixed types. Specify dtype option on import or set low_memory=False.\n",
      "  data = pd.read_csv('A2/' + file, header=None)\n",
      " 81%|████████  | 63/78 [03:59<00:47,  3.14s/it]C:\\Users\\Allen\\AppData\\Local\\Temp\\ipykernel_4360\\2070417633.py:13: DtypeWarning: Columns (0,1,2,3,10,33,37,49,50) have mixed types. Specify dtype option on import or set low_memory=False.\n",
      "  data = pd.read_csv('A2/' + file, header=None)\n",
      " 82%|████████▏ | 64/78 [04:01<00:41,  2.95s/it]C:\\Users\\Allen\\AppData\\Local\\Temp\\ipykernel_4360\\2070417633.py:13: DtypeWarning: Columns (0,1,2,3,10,33,37,49,50) have mixed types. Specify dtype option on import or set low_memory=False.\n",
      "  data = pd.read_csv('A2/' + file, header=None)\n",
      " 83%|████████▎ | 65/78 [04:04<00:36,  2.81s/it]C:\\Users\\Allen\\AppData\\Local\\Temp\\ipykernel_4360\\2070417633.py:13: DtypeWarning: Columns (0,1,2,3,10,33,37,49,50) have mixed types. Specify dtype option on import or set low_memory=False.\n",
      "  data = pd.read_csv('A2/' + file, header=None)\n",
      " 85%|████████▍ | 66/78 [04:06<00:32,  2.71s/it]C:\\Users\\Allen\\AppData\\Local\\Temp\\ipykernel_4360\\2070417633.py:13: DtypeWarning: Columns (0,1,2,3,10,33,37,49,50) have mixed types. Specify dtype option on import or set low_memory=False.\n",
      "  data = pd.read_csv('A2/' + file, header=None)\n",
      " 86%|████████▌ | 67/78 [04:09<00:29,  2.68s/it]C:\\Users\\Allen\\AppData\\Local\\Temp\\ipykernel_4360\\2070417633.py:13: DtypeWarning: Columns (0,1,2,3,10,33,37,49,50) have mixed types. Specify dtype option on import or set low_memory=False.\n",
      "  data = pd.read_csv('A2/' + file, header=None)\n",
      " 87%|████████▋ | 68/78 [04:11<00:26,  2.62s/it]C:\\Users\\Allen\\AppData\\Local\\Temp\\ipykernel_4360\\2070417633.py:13: DtypeWarning: Columns (0,1,2,3,10,33,37,49,50) have mixed types. Specify dtype option on import or set low_memory=False.\n",
      "  data = pd.read_csv('A2/' + file, header=None)\n",
      " 88%|████████▊ | 69/78 [04:14<00:23,  2.58s/it]C:\\Users\\Allen\\AppData\\Local\\Temp\\ipykernel_4360\\2070417633.py:13: DtypeWarning: Columns (0,1,2,3,10,33,37,49,50) have mixed types. Specify dtype option on import or set low_memory=False.\n",
      "  data = pd.read_csv('A2/' + file, header=None)\n",
      " 90%|████████▉ | 70/78 [04:16<00:20,  2.57s/it]C:\\Users\\Allen\\AppData\\Local\\Temp\\ipykernel_4360\\2070417633.py:13: DtypeWarning: Columns (0,1,2,3,10,33,37,49,50) have mixed types. Specify dtype option on import or set low_memory=False.\n",
      "  data = pd.read_csv('A2/' + file, header=None)\n",
      " 91%|█████████ | 71/78 [04:19<00:18,  2.69s/it]C:\\Users\\Allen\\AppData\\Local\\Temp\\ipykernel_4360\\2070417633.py:13: DtypeWarning: Columns (0,1,2,3,10,33,37,49,50) have mixed types. Specify dtype option on import or set low_memory=False.\n",
      "  data = pd.read_csv('A2/' + file, header=None)\n",
      " 92%|█████████▏| 72/78 [04:22<00:16,  2.71s/it]C:\\Users\\Allen\\AppData\\Local\\Temp\\ipykernel_4360\\2070417633.py:13: DtypeWarning: Columns (0,1,2,3,10,33,37,49,50) have mixed types. Specify dtype option on import or set low_memory=False.\n",
      "  data = pd.read_csv('A2/' + file, header=None)\n",
      " 94%|█████████▎| 73/78 [04:26<00:15,  3.08s/it]C:\\Users\\Allen\\AppData\\Local\\Temp\\ipykernel_4360\\2070417633.py:13: DtypeWarning: Columns (0,1,2,3,10,33,37,49,50) have mixed types. Specify dtype option on import or set low_memory=False.\n",
      "  data = pd.read_csv('A2/' + file, header=None)\n",
      " 95%|█████████▍| 74/78 [04:30<00:13,  3.31s/it]C:\\Users\\Allen\\AppData\\Local\\Temp\\ipykernel_4360\\2070417633.py:13: DtypeWarning: Columns (0,1,2,3,10,33,37,49,50) have mixed types. Specify dtype option on import or set low_memory=False.\n",
      "  data = pd.read_csv('A2/' + file, header=None)\n",
      " 96%|█████████▌| 75/78 [04:35<00:11,  3.88s/it]C:\\Users\\Allen\\AppData\\Local\\Temp\\ipykernel_4360\\2070417633.py:13: DtypeWarning: Columns (0,1,2,3,10,33,37,49,50) have mixed types. Specify dtype option on import or set low_memory=False.\n",
      "  data = pd.read_csv('A2/' + file, header=None)\n",
      " 97%|█████████▋| 76/78 [04:39<00:07,  3.81s/it]C:\\Users\\Allen\\AppData\\Local\\Temp\\ipykernel_4360\\2070417633.py:13: DtypeWarning: Columns (0,1,2,3,10,33,37,49,50) have mixed types. Specify dtype option on import or set low_memory=False.\n",
      "  data = pd.read_csv('A2/' + file, header=None)\n",
      " 99%|█████████▊| 77/78 [04:42<00:03,  3.62s/it]C:\\Users\\Allen\\AppData\\Local\\Temp\\ipykernel_4360\\2070417633.py:13: DtypeWarning: Columns (1,2,3,10,33,37,49,50) have mixed types. Specify dtype option on import or set low_memory=False.\n",
      "  data = pd.read_csv('A2/' + file, header=None)\n",
      "100%|██████████| 78/78 [04:45<00:00,  3.66s/it]\n"
     ]
    }
   ],
   "source": [
    "#read all files in the folder A2\n",
    "#save the data in a dataframe\n",
    "file_list=os.listdir('A2')\n",
    "df=pd.DataFrame()\n",
    "print('Number of files in A2:', len(file_list))\n",
    "\n",
    "# for file in file_list:\n",
    "#     data=pd.read_csv('A2/'+file,header=None)\n",
    "#     df=pd.concat([df,data],axis=0)\n",
    "\n",
    "#use tqdm to show progress\n",
    "for file in tqdm(file_list):\n",
    "    data = pd.read_csv('A2/' + file, header=None)\n",
    "    df = pd.concat([df, data], axis=0)"
   ]
  },
  {
   "cell_type": "code",
   "execution_count": 5,
   "metadata": {},
   "outputs": [
    {
     "data": {
      "text/plain": [
       "5385079"
      ]
     },
     "execution_count": 5,
     "metadata": {},
     "output_type": "execute_result"
    }
   ],
   "source": [
    "len(df)"
   ]
  },
  {
   "cell_type": "code",
   "execution_count": null,
   "metadata": {},
   "outputs": [],
   "source": [
    "# df.to_csv('A2_all.csv',index=False,header=False)\n",
    "#217.2 sec to process\n",
    "\n",
    "# to be faster, save as feather format\n",
    "# 修復混合資料類型問題：將所有列轉換為字串\n",
    "# 115.2 sec to process\n",
    "df_for_feather = df.astype(str)\n",
    "df_for_feather.to_feather('A2_all.feather')"
   ]
  },
  {
   "cell_type": "code",
   "execution_count": 10,
   "metadata": {},
   "outputs": [
    {
     "name": "stderr",
     "output_type": "stream",
     "text": [
      "100%|██████████| 7/7 [00:02<00:00,  3.10it/s]\n",
      "100%|██████████| 7/7 [00:02<00:00,  3.10it/s]\n"
     ]
    }
   ],
   "source": [
    "#do the same for the files in folder A1\n",
    "file_list=os.listdir('A1')\n",
    "df1=pd.DataFrame()\n",
    "# for file in file_list:\n",
    "#     data=pd.read_csv('A1/'+file,header=None)\n",
    "#     df1=pd.concat([df1,data],axis=0)\n",
    "\n",
    "for file in tqdm(file_list):\n",
    "    data = pd.read_csv('A1/' + file, header=None)\n",
    "    df1 = pd.concat([df1, data], axis=0)"
   ]
  },
  {
   "cell_type": "code",
   "execution_count": 12,
   "metadata": {},
   "outputs": [
    {
     "data": {
      "text/plain": [
       "29161"
      ]
     },
     "execution_count": 12,
     "metadata": {},
     "output_type": "execute_result"
    }
   ],
   "source": [
    "len(df1)"
   ]
  },
  {
   "cell_type": "code",
   "execution_count": 11,
   "metadata": {},
   "outputs": [],
   "source": [
    "# df1.to_csv('A1_all.csv',index=False,header=False)\n",
    "\n",
    "# to be faster, save as feather format\n",
    "# 修復混合資料類型問題：將所有列轉換為字串\n",
    "df1_for_feather = df1.astype(str)\n",
    "df1_for_feather.to_feather('A1_all.feather')"
   ]
  },
  {
   "cell_type": "code",
   "execution_count": null,
   "metadata": {},
   "outputs": [],
   "source": []
  }
 ],
 "metadata": {
  "kernelspec": {
   "display_name": "base",
   "language": "python",
   "name": "python3"
  },
  "language_info": {
   "codemirror_mode": {
    "name": "ipython",
    "version": 3
   },
   "file_extension": ".py",
   "mimetype": "text/x-python",
   "name": "python",
   "nbconvert_exporter": "python",
   "pygments_lexer": "ipython3",
   "version": "3.11.7"
  }
 },
 "nbformat": 4,
 "nbformat_minor": 2
}
